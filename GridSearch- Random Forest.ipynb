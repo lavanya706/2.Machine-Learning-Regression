{
 "cells": [
  {
   "cell_type": "code",
   "execution_count": 1,
   "id": "98469b4d",
   "metadata": {},
   "outputs": [],
   "source": [
    "#importing the Libraies\n",
    "import numpy as np\n",
    "import matplotlib.pyplot as plt\n",
    "import pandas as pd"
   ]
  },
  {
   "cell_type": "code",
   "execution_count": 2,
   "id": "12c3b956",
   "metadata": {},
   "outputs": [],
   "source": [
    "# Reading the Dataset\n",
    "dataset = pd.read_csv('insurance_pre.csv')"
   ]
  },
  {
   "cell_type": "code",
   "execution_count": 3,
   "id": "22662295",
   "metadata": {},
   "outputs": [],
   "source": [
    "dataset=pd.get_dummies(dataset,drop_first=True)"
   ]
  },
  {
   "cell_type": "code",
   "execution_count": 4,
   "id": "0da5443a",
   "metadata": {},
   "outputs": [],
   "source": [
    "indep=dataset[['age', 'bmi', 'children','sex_male', 'smoker_yes']]\n",
    "dep=dataset['charges']"
   ]
  },
  {
   "cell_type": "code",
   "execution_count": 5,
   "id": "ff452437",
   "metadata": {},
   "outputs": [],
   "source": [
    "#split into training set and test\n",
    "from sklearn.model_selection import train_test_split\n",
    "X_train, X_test, y_train, y_test = train_test_split(indep, dep, test_size = 1/3, random_state = 0)"
   ]
  },
  {
   "cell_type": "code",
   "execution_count": 6,
   "id": "d069ac0a",
   "metadata": {},
   "outputs": [],
   "source": [
    "from sklearn.preprocessing import StandardScaler\n",
    "sc = StandardScaler()\n",
    "X_train = sc.fit_transform(X_train)\n",
    "X_test = sc.transform(X_test)"
   ]
  },
  {
   "cell_type": "code",
   "execution_count": 7,
   "id": "51f0e69d",
   "metadata": {},
   "outputs": [
    {
     "name": "stderr",
     "output_type": "stream",
     "text": [
      "C:\\Users\\lavanya\\anaconda3\\envs\\aiml\\lib\\site-packages\\sklearn\\model_selection\\_split.py:1978: FutureWarning: The default value of cv will change from 3 to 5 in version 0.22. Specify it explicitly to silence this warning.\n",
      "  warnings.warn(CV_WARNING, FutureWarning)\n",
      "C:\\Users\\lavanya\\anaconda3\\envs\\aiml\\lib\\site-packages\\sklearn\\utils\\fixes.py:230: DeprecationWarning: distutils Version classes are deprecated. Use packaging.version instead.\n",
      "  if _joblib.__version__ >= LooseVersion('0.12'):\n",
      "C:\\Users\\lavanya\\anaconda3\\envs\\aiml\\lib\\site-packages\\sklearn\\utils\\fixes.py:230: DeprecationWarning: distutils Version classes are deprecated. Use packaging.version instead.\n",
      "  if _joblib.__version__ >= LooseVersion('0.12'):\n",
      "C:\\Users\\lavanya\\anaconda3\\envs\\aiml\\lib\\site-packages\\sklearn\\utils\\fixes.py:230: DeprecationWarning: distutils Version classes are deprecated. Use packaging.version instead.\n",
      "  if _joblib.__version__ >= LooseVersion('0.12'):\n",
      "C:\\Users\\lavanya\\anaconda3\\envs\\aiml\\lib\\site-packages\\sklearn\\utils\\fixes.py:230: DeprecationWarning: distutils Version classes are deprecated. Use packaging.version instead.\n",
      "  if _joblib.__version__ >= LooseVersion('0.12'):\n",
      "C:\\Users\\lavanya\\anaconda3\\envs\\aiml\\lib\\site-packages\\sklearn\\utils\\fixes.py:230: DeprecationWarning: distutils Version classes are deprecated. Use packaging.version instead.\n",
      "  if _joblib.__version__ >= LooseVersion('0.12'):\n",
      "C:\\Users\\lavanya\\anaconda3\\envs\\aiml\\lib\\site-packages\\sklearn\\utils\\fixes.py:230: DeprecationWarning: distutils Version classes are deprecated. Use packaging.version instead.\n",
      "  if _joblib.__version__ >= LooseVersion('0.12'):\n",
      "C:\\Users\\lavanya\\anaconda3\\envs\\aiml\\lib\\site-packages\\sklearn\\utils\\fixes.py:230: DeprecationWarning: distutils Version classes are deprecated. Use packaging.version instead.\n",
      "  if _joblib.__version__ >= LooseVersion('0.12'):\n"
     ]
    },
    {
     "name": "stdout",
     "output_type": "stream",
     "text": [
      "Fitting 3 folds for each of 12 candidates, totalling 36 fits\n",
      "[CV] criterion=mse, max_features=auto, n_estimators=10 ...............\n",
      "[CV]  criterion=mse, max_features=auto, n_estimators=10, score=0.765, total=   0.0s\n",
      "[CV] criterion=mse, max_features=auto, n_estimators=10 ...............\n",
      "[CV]  criterion=mse, max_features=auto, n_estimators=10, score=0.769, total=   0.0s\n",
      "[CV] criterion=mse, max_features=auto, n_estimators=10 ...............\n",
      "[CV]  criterion=mse, max_features=auto, n_estimators=10, score=0.790, total=   0.0s\n",
      "[CV] criterion=mse, max_features=auto, n_estimators=100 ..............\n"
     ]
    },
    {
     "name": "stderr",
     "output_type": "stream",
     "text": [
      "C:\\Users\\lavanya\\anaconda3\\envs\\aiml\\lib\\site-packages\\sklearn\\utils\\fixes.py:230: DeprecationWarning: distutils Version classes are deprecated. Use packaging.version instead.\n",
      "  if _joblib.__version__ >= LooseVersion('0.12'):\n",
      "C:\\Users\\lavanya\\anaconda3\\envs\\aiml\\lib\\site-packages\\sklearn\\utils\\fixes.py:230: DeprecationWarning: distutils Version classes are deprecated. Use packaging.version instead.\n",
      "  if _joblib.__version__ >= LooseVersion('0.12'):\n"
     ]
    },
    {
     "name": "stdout",
     "output_type": "stream",
     "text": [
      "[CV]  criterion=mse, max_features=auto, n_estimators=100, score=0.786, total=   0.4s\n",
      "[CV] criterion=mse, max_features=auto, n_estimators=100 ..............\n"
     ]
    },
    {
     "name": "stderr",
     "output_type": "stream",
     "text": [
      "C:\\Users\\lavanya\\anaconda3\\envs\\aiml\\lib\\site-packages\\sklearn\\utils\\fixes.py:230: DeprecationWarning: distutils Version classes are deprecated. Use packaging.version instead.\n",
      "  if _joblib.__version__ >= LooseVersion('0.12'):\n",
      "C:\\Users\\lavanya\\anaconda3\\envs\\aiml\\lib\\site-packages\\sklearn\\utils\\fixes.py:230: DeprecationWarning: distutils Version classes are deprecated. Use packaging.version instead.\n",
      "  if _joblib.__version__ >= LooseVersion('0.12'):\n"
     ]
    },
    {
     "name": "stdout",
     "output_type": "stream",
     "text": [
      "[CV]  criterion=mse, max_features=auto, n_estimators=100, score=0.793, total=   0.3s\n",
      "[CV] criterion=mse, max_features=auto, n_estimators=100 ..............\n"
     ]
    },
    {
     "name": "stderr",
     "output_type": "stream",
     "text": [
      "C:\\Users\\lavanya\\anaconda3\\envs\\aiml\\lib\\site-packages\\sklearn\\utils\\fixes.py:230: DeprecationWarning: distutils Version classes are deprecated. Use packaging.version instead.\n",
      "  if _joblib.__version__ >= LooseVersion('0.12'):\n",
      "C:\\Users\\lavanya\\anaconda3\\envs\\aiml\\lib\\site-packages\\sklearn\\utils\\fixes.py:230: DeprecationWarning: distutils Version classes are deprecated. Use packaging.version instead.\n",
      "  if _joblib.__version__ >= LooseVersion('0.12'):\n",
      "C:\\Users\\lavanya\\anaconda3\\envs\\aiml\\lib\\site-packages\\sklearn\\utils\\fixes.py:230: DeprecationWarning: distutils Version classes are deprecated. Use packaging.version instead.\n",
      "  if _joblib.__version__ >= LooseVersion('0.12'):\n",
      "C:\\Users\\lavanya\\anaconda3\\envs\\aiml\\lib\\site-packages\\sklearn\\utils\\fixes.py:230: DeprecationWarning: distutils Version classes are deprecated. Use packaging.version instead.\n",
      "  if _joblib.__version__ >= LooseVersion('0.12'):\n",
      "C:\\Users\\lavanya\\anaconda3\\envs\\aiml\\lib\\site-packages\\sklearn\\utils\\fixes.py:230: DeprecationWarning: distutils Version classes are deprecated. Use packaging.version instead.\n",
      "  if _joblib.__version__ >= LooseVersion('0.12'):\n",
      "C:\\Users\\lavanya\\anaconda3\\envs\\aiml\\lib\\site-packages\\sklearn\\utils\\fixes.py:230: DeprecationWarning: distutils Version classes are deprecated. Use packaging.version instead.\n",
      "  if _joblib.__version__ >= LooseVersion('0.12'):\n",
      "C:\\Users\\lavanya\\anaconda3\\envs\\aiml\\lib\\site-packages\\sklearn\\utils\\fixes.py:230: DeprecationWarning: distutils Version classes are deprecated. Use packaging.version instead.\n",
      "  if _joblib.__version__ >= LooseVersion('0.12'):\n",
      "C:\\Users\\lavanya\\anaconda3\\envs\\aiml\\lib\\site-packages\\sklearn\\utils\\fixes.py:230: DeprecationWarning: distutils Version classes are deprecated. Use packaging.version instead.\n",
      "  if _joblib.__version__ >= LooseVersion('0.12'):\n"
     ]
    },
    {
     "name": "stdout",
     "output_type": "stream",
     "text": [
      "[CV]  criterion=mse, max_features=auto, n_estimators=100, score=0.799, total=   0.3s\n",
      "[CV] criterion=mse, max_features=sqrt, n_estimators=10 ...............\n",
      "[CV]  criterion=mse, max_features=sqrt, n_estimators=10, score=0.792, total=   0.0s\n",
      "[CV] criterion=mse, max_features=sqrt, n_estimators=10 ...............\n",
      "[CV]  criterion=mse, max_features=sqrt, n_estimators=10, score=0.808, total=   0.0s\n",
      "[CV] criterion=mse, max_features=sqrt, n_estimators=10 ...............\n",
      "[CV]  criterion=mse, max_features=sqrt, n_estimators=10, score=0.767, total=   0.0s\n",
      "[CV] criterion=mse, max_features=sqrt, n_estimators=100 ..............\n"
     ]
    },
    {
     "name": "stderr",
     "output_type": "stream",
     "text": [
      "C:\\Users\\lavanya\\anaconda3\\envs\\aiml\\lib\\site-packages\\sklearn\\utils\\fixes.py:230: DeprecationWarning: distutils Version classes are deprecated. Use packaging.version instead.\n",
      "  if _joblib.__version__ >= LooseVersion('0.12'):\n",
      "C:\\Users\\lavanya\\anaconda3\\envs\\aiml\\lib\\site-packages\\sklearn\\utils\\fixes.py:230: DeprecationWarning: distutils Version classes are deprecated. Use packaging.version instead.\n",
      "  if _joblib.__version__ >= LooseVersion('0.12'):\n"
     ]
    },
    {
     "name": "stdout",
     "output_type": "stream",
     "text": [
      "[CV]  criterion=mse, max_features=sqrt, n_estimators=100, score=0.806, total=   0.3s\n",
      "[CV] criterion=mse, max_features=sqrt, n_estimators=100 ..............\n"
     ]
    },
    {
     "name": "stderr",
     "output_type": "stream",
     "text": [
      "C:\\Users\\lavanya\\anaconda3\\envs\\aiml\\lib\\site-packages\\sklearn\\utils\\fixes.py:230: DeprecationWarning: distutils Version classes are deprecated. Use packaging.version instead.\n",
      "  if _joblib.__version__ >= LooseVersion('0.12'):\n",
      "C:\\Users\\lavanya\\anaconda3\\envs\\aiml\\lib\\site-packages\\sklearn\\utils\\fixes.py:230: DeprecationWarning: distutils Version classes are deprecated. Use packaging.version instead.\n",
      "  if _joblib.__version__ >= LooseVersion('0.12'):\n"
     ]
    },
    {
     "name": "stdout",
     "output_type": "stream",
     "text": [
      "[CV]  criterion=mse, max_features=sqrt, n_estimators=100, score=0.802, total=   0.3s\n",
      "[CV] criterion=mse, max_features=sqrt, n_estimators=100 ..............\n"
     ]
    },
    {
     "name": "stderr",
     "output_type": "stream",
     "text": [
      "C:\\Users\\lavanya\\anaconda3\\envs\\aiml\\lib\\site-packages\\sklearn\\utils\\fixes.py:230: DeprecationWarning: distutils Version classes are deprecated. Use packaging.version instead.\n",
      "  if _joblib.__version__ >= LooseVersion('0.12'):\n",
      "C:\\Users\\lavanya\\anaconda3\\envs\\aiml\\lib\\site-packages\\sklearn\\utils\\fixes.py:230: DeprecationWarning: distutils Version classes are deprecated. Use packaging.version instead.\n",
      "  if _joblib.__version__ >= LooseVersion('0.12'):\n",
      "C:\\Users\\lavanya\\anaconda3\\envs\\aiml\\lib\\site-packages\\sklearn\\utils\\fixes.py:230: DeprecationWarning: distutils Version classes are deprecated. Use packaging.version instead.\n",
      "  if _joblib.__version__ >= LooseVersion('0.12'):\n",
      "C:\\Users\\lavanya\\anaconda3\\envs\\aiml\\lib\\site-packages\\sklearn\\utils\\fixes.py:230: DeprecationWarning: distutils Version classes are deprecated. Use packaging.version instead.\n",
      "  if _joblib.__version__ >= LooseVersion('0.12'):\n",
      "C:\\Users\\lavanya\\anaconda3\\envs\\aiml\\lib\\site-packages\\sklearn\\utils\\fixes.py:230: DeprecationWarning: distutils Version classes are deprecated. Use packaging.version instead.\n",
      "  if _joblib.__version__ >= LooseVersion('0.12'):\n",
      "C:\\Users\\lavanya\\anaconda3\\envs\\aiml\\lib\\site-packages\\sklearn\\utils\\fixes.py:230: DeprecationWarning: distutils Version classes are deprecated. Use packaging.version instead.\n",
      "  if _joblib.__version__ >= LooseVersion('0.12'):\n",
      "C:\\Users\\lavanya\\anaconda3\\envs\\aiml\\lib\\site-packages\\sklearn\\utils\\fixes.py:230: DeprecationWarning: distutils Version classes are deprecated. Use packaging.version instead.\n",
      "  if _joblib.__version__ >= LooseVersion('0.12'):\n"
     ]
    },
    {
     "name": "stdout",
     "output_type": "stream",
     "text": [
      "[CV]  criterion=mse, max_features=sqrt, n_estimators=100, score=0.793, total=   0.3s\n",
      "[CV] criterion=mse, max_features=log2, n_estimators=10 ...............\n",
      "[CV]  criterion=mse, max_features=log2, n_estimators=10, score=0.774, total=   0.1s\n",
      "[CV] criterion=mse, max_features=log2, n_estimators=10 ...............\n",
      "[CV]  criterion=mse, max_features=log2, n_estimators=10, score=0.797, total=   0.1s\n",
      "[CV] criterion=mse, max_features=log2, n_estimators=10 ...............\n",
      "[CV]  criterion=mse, max_features=log2, n_estimators=10, score=0.775, total=   0.0s\n",
      "[CV] criterion=mse, max_features=log2, n_estimators=100 ..............\n"
     ]
    },
    {
     "name": "stderr",
     "output_type": "stream",
     "text": [
      "C:\\Users\\lavanya\\anaconda3\\envs\\aiml\\lib\\site-packages\\sklearn\\utils\\fixes.py:230: DeprecationWarning: distutils Version classes are deprecated. Use packaging.version instead.\n",
      "  if _joblib.__version__ >= LooseVersion('0.12'):\n",
      "C:\\Users\\lavanya\\anaconda3\\envs\\aiml\\lib\\site-packages\\sklearn\\utils\\fixes.py:230: DeprecationWarning: distutils Version classes are deprecated. Use packaging.version instead.\n",
      "  if _joblib.__version__ >= LooseVersion('0.12'):\n"
     ]
    },
    {
     "name": "stdout",
     "output_type": "stream",
     "text": [
      "[CV]  criterion=mse, max_features=log2, n_estimators=100, score=0.803, total=   0.3s\n",
      "[CV] criterion=mse, max_features=log2, n_estimators=100 ..............\n"
     ]
    },
    {
     "name": "stderr",
     "output_type": "stream",
     "text": [
      "C:\\Users\\lavanya\\anaconda3\\envs\\aiml\\lib\\site-packages\\sklearn\\utils\\fixes.py:230: DeprecationWarning: distutils Version classes are deprecated. Use packaging.version instead.\n",
      "  if _joblib.__version__ >= LooseVersion('0.12'):\n",
      "C:\\Users\\lavanya\\anaconda3\\envs\\aiml\\lib\\site-packages\\sklearn\\utils\\fixes.py:230: DeprecationWarning: distutils Version classes are deprecated. Use packaging.version instead.\n",
      "  if _joblib.__version__ >= LooseVersion('0.12'):\n",
      "C:\\Users\\lavanya\\anaconda3\\envs\\aiml\\lib\\site-packages\\sklearn\\utils\\fixes.py:230: DeprecationWarning: distutils Version classes are deprecated. Use packaging.version instead.\n",
      "  if _joblib.__version__ >= LooseVersion('0.12'):\n"
     ]
    },
    {
     "name": "stdout",
     "output_type": "stream",
     "text": [
      "[CV]  criterion=mse, max_features=log2, n_estimators=100, score=0.800, total=   0.3s\n",
      "[CV] criterion=mse, max_features=log2, n_estimators=100 ..............\n"
     ]
    },
    {
     "name": "stderr",
     "output_type": "stream",
     "text": [
      "C:\\Users\\lavanya\\anaconda3\\envs\\aiml\\lib\\site-packages\\sklearn\\utils\\fixes.py:230: DeprecationWarning: distutils Version classes are deprecated. Use packaging.version instead.\n",
      "  if _joblib.__version__ >= LooseVersion('0.12'):\n",
      "C:\\Users\\lavanya\\anaconda3\\envs\\aiml\\lib\\site-packages\\sklearn\\utils\\fixes.py:230: DeprecationWarning: distutils Version classes are deprecated. Use packaging.version instead.\n",
      "  if _joblib.__version__ >= LooseVersion('0.12'):\n",
      "C:\\Users\\lavanya\\anaconda3\\envs\\aiml\\lib\\site-packages\\sklearn\\utils\\fixes.py:230: DeprecationWarning: distutils Version classes are deprecated. Use packaging.version instead.\n",
      "  if _joblib.__version__ >= LooseVersion('0.12'):\n",
      "C:\\Users\\lavanya\\anaconda3\\envs\\aiml\\lib\\site-packages\\sklearn\\utils\\fixes.py:230: DeprecationWarning: distutils Version classes are deprecated. Use packaging.version instead.\n",
      "  if _joblib.__version__ >= LooseVersion('0.12'):\n"
     ]
    },
    {
     "name": "stdout",
     "output_type": "stream",
     "text": [
      "[CV]  criterion=mse, max_features=log2, n_estimators=100, score=0.794, total=   0.2s\n",
      "[CV] criterion=mae, max_features=auto, n_estimators=10 ...............\n",
      "[CV]  criterion=mae, max_features=auto, n_estimators=10, score=0.759, total=   0.1s\n",
      "[CV] criterion=mae, max_features=auto, n_estimators=10 ...............\n"
     ]
    },
    {
     "name": "stderr",
     "output_type": "stream",
     "text": [
      "C:\\Users\\lavanya\\anaconda3\\envs\\aiml\\lib\\site-packages\\sklearn\\utils\\fixes.py:230: DeprecationWarning: distutils Version classes are deprecated. Use packaging.version instead.\n",
      "  if _joblib.__version__ >= LooseVersion('0.12'):\n",
      "C:\\Users\\lavanya\\anaconda3\\envs\\aiml\\lib\\site-packages\\sklearn\\utils\\fixes.py:230: DeprecationWarning: distutils Version classes are deprecated. Use packaging.version instead.\n",
      "  if _joblib.__version__ >= LooseVersion('0.12'):\n",
      "C:\\Users\\lavanya\\anaconda3\\envs\\aiml\\lib\\site-packages\\sklearn\\utils\\fixes.py:230: DeprecationWarning: distutils Version classes are deprecated. Use packaging.version instead.\n",
      "  if _joblib.__version__ >= LooseVersion('0.12'):\n",
      "C:\\Users\\lavanya\\anaconda3\\envs\\aiml\\lib\\site-packages\\sklearn\\utils\\fixes.py:230: DeprecationWarning: distutils Version classes are deprecated. Use packaging.version instead.\n",
      "  if _joblib.__version__ >= LooseVersion('0.12'):\n"
     ]
    },
    {
     "name": "stdout",
     "output_type": "stream",
     "text": [
      "[CV]  criterion=mae, max_features=auto, n_estimators=10, score=0.767, total=   0.1s\n",
      "[CV] criterion=mae, max_features=auto, n_estimators=10 ...............\n",
      "[CV]  criterion=mae, max_features=auto, n_estimators=10, score=0.790, total=   0.1s\n",
      "[CV] criterion=mae, max_features=auto, n_estimators=100 ..............\n"
     ]
    },
    {
     "name": "stderr",
     "output_type": "stream",
     "text": [
      "C:\\Users\\lavanya\\anaconda3\\envs\\aiml\\lib\\site-packages\\sklearn\\utils\\fixes.py:230: DeprecationWarning: distutils Version classes are deprecated. Use packaging.version instead.\n",
      "  if _joblib.__version__ >= LooseVersion('0.12'):\n",
      "C:\\Users\\lavanya\\anaconda3\\envs\\aiml\\lib\\site-packages\\sklearn\\utils\\fixes.py:230: DeprecationWarning: distutils Version classes are deprecated. Use packaging.version instead.\n",
      "  if _joblib.__version__ >= LooseVersion('0.12'):\n"
     ]
    },
    {
     "name": "stdout",
     "output_type": "stream",
     "text": [
      "[CV]  criterion=mae, max_features=auto, n_estimators=100, score=0.790, total=   1.3s\n",
      "[CV] criterion=mae, max_features=auto, n_estimators=100 ..............\n"
     ]
    },
    {
     "name": "stderr",
     "output_type": "stream",
     "text": [
      "C:\\Users\\lavanya\\anaconda3\\envs\\aiml\\lib\\site-packages\\sklearn\\utils\\fixes.py:230: DeprecationWarning: distutils Version classes are deprecated. Use packaging.version instead.\n",
      "  if _joblib.__version__ >= LooseVersion('0.12'):\n",
      "C:\\Users\\lavanya\\anaconda3\\envs\\aiml\\lib\\site-packages\\sklearn\\utils\\fixes.py:230: DeprecationWarning: distutils Version classes are deprecated. Use packaging.version instead.\n",
      "  if _joblib.__version__ >= LooseVersion('0.12'):\n"
     ]
    },
    {
     "name": "stdout",
     "output_type": "stream",
     "text": [
      "[CV]  criterion=mae, max_features=auto, n_estimators=100, score=0.785, total=   1.4s\n",
      "[CV] criterion=mae, max_features=auto, n_estimators=100 ..............\n"
     ]
    },
    {
     "name": "stderr",
     "output_type": "stream",
     "text": [
      "C:\\Users\\lavanya\\anaconda3\\envs\\aiml\\lib\\site-packages\\sklearn\\utils\\fixes.py:230: DeprecationWarning: distutils Version classes are deprecated. Use packaging.version instead.\n",
      "  if _joblib.__version__ >= LooseVersion('0.12'):\n",
      "C:\\Users\\lavanya\\anaconda3\\envs\\aiml\\lib\\site-packages\\sklearn\\utils\\fixes.py:230: DeprecationWarning: distutils Version classes are deprecated. Use packaging.version instead.\n",
      "  if _joblib.__version__ >= LooseVersion('0.12'):\n",
      "C:\\Users\\lavanya\\anaconda3\\envs\\aiml\\lib\\site-packages\\sklearn\\utils\\fixes.py:230: DeprecationWarning: distutils Version classes are deprecated. Use packaging.version instead.\n",
      "  if _joblib.__version__ >= LooseVersion('0.12'):\n",
      "C:\\Users\\lavanya\\anaconda3\\envs\\aiml\\lib\\site-packages\\sklearn\\utils\\fixes.py:230: DeprecationWarning: distutils Version classes are deprecated. Use packaging.version instead.\n",
      "  if _joblib.__version__ >= LooseVersion('0.12'):\n",
      "C:\\Users\\lavanya\\anaconda3\\envs\\aiml\\lib\\site-packages\\sklearn\\utils\\fixes.py:230: DeprecationWarning: distutils Version classes are deprecated. Use packaging.version instead.\n",
      "  if _joblib.__version__ >= LooseVersion('0.12'):\n",
      "C:\\Users\\lavanya\\anaconda3\\envs\\aiml\\lib\\site-packages\\sklearn\\utils\\fixes.py:230: DeprecationWarning: distutils Version classes are deprecated. Use packaging.version instead.\n",
      "  if _joblib.__version__ >= LooseVersion('0.12'):\n"
     ]
    },
    {
     "name": "stdout",
     "output_type": "stream",
     "text": [
      "[CV]  criterion=mae, max_features=auto, n_estimators=100, score=0.796, total=   1.4s\n",
      "[CV] criterion=mae, max_features=sqrt, n_estimators=10 ...............\n",
      "[CV]  criterion=mae, max_features=sqrt, n_estimators=10, score=0.802, total=   0.1s\n",
      "[CV] criterion=mae, max_features=sqrt, n_estimators=10 ...............\n",
      "[CV]  criterion=mae, max_features=sqrt, n_estimators=10, score=0.803, total=   0.1s\n",
      "[CV] criterion=mae, max_features=sqrt, n_estimators=10 ...............\n"
     ]
    },
    {
     "name": "stderr",
     "output_type": "stream",
     "text": [
      "C:\\Users\\lavanya\\anaconda3\\envs\\aiml\\lib\\site-packages\\sklearn\\utils\\fixes.py:230: DeprecationWarning: distutils Version classes are deprecated. Use packaging.version instead.\n",
      "  if _joblib.__version__ >= LooseVersion('0.12'):\n",
      "C:\\Users\\lavanya\\anaconda3\\envs\\aiml\\lib\\site-packages\\sklearn\\utils\\fixes.py:230: DeprecationWarning: distutils Version classes are deprecated. Use packaging.version instead.\n",
      "  if _joblib.__version__ >= LooseVersion('0.12'):\n"
     ]
    },
    {
     "name": "stdout",
     "output_type": "stream",
     "text": [
      "[CV]  criterion=mae, max_features=sqrt, n_estimators=10, score=0.787, total=   0.1s\n",
      "[CV] criterion=mae, max_features=sqrt, n_estimators=100 ..............\n"
     ]
    },
    {
     "name": "stderr",
     "output_type": "stream",
     "text": [
      "C:\\Users\\lavanya\\anaconda3\\envs\\aiml\\lib\\site-packages\\sklearn\\utils\\fixes.py:230: DeprecationWarning: distutils Version classes are deprecated. Use packaging.version instead.\n",
      "  if _joblib.__version__ >= LooseVersion('0.12'):\n",
      "C:\\Users\\lavanya\\anaconda3\\envs\\aiml\\lib\\site-packages\\sklearn\\utils\\fixes.py:230: DeprecationWarning: distutils Version classes are deprecated. Use packaging.version instead.\n",
      "  if _joblib.__version__ >= LooseVersion('0.12'):\n"
     ]
    },
    {
     "name": "stdout",
     "output_type": "stream",
     "text": [
      "[CV]  criterion=mae, max_features=sqrt, n_estimators=100, score=0.806, total=   1.0s\n",
      "[CV] criterion=mae, max_features=sqrt, n_estimators=100 ..............\n"
     ]
    },
    {
     "name": "stderr",
     "output_type": "stream",
     "text": [
      "C:\\Users\\lavanya\\anaconda3\\envs\\aiml\\lib\\site-packages\\sklearn\\utils\\fixes.py:230: DeprecationWarning: distutils Version classes are deprecated. Use packaging.version instead.\n",
      "  if _joblib.__version__ >= LooseVersion('0.12'):\n",
      "C:\\Users\\lavanya\\anaconda3\\envs\\aiml\\lib\\site-packages\\sklearn\\utils\\fixes.py:230: DeprecationWarning: distutils Version classes are deprecated. Use packaging.version instead.\n",
      "  if _joblib.__version__ >= LooseVersion('0.12'):\n"
     ]
    },
    {
     "name": "stdout",
     "output_type": "stream",
     "text": [
      "[CV]  criterion=mae, max_features=sqrt, n_estimators=100, score=0.808, total=   0.7s\n",
      "[CV] criterion=mae, max_features=sqrt, n_estimators=100 ..............\n"
     ]
    },
    {
     "name": "stderr",
     "output_type": "stream",
     "text": [
      "C:\\Users\\lavanya\\anaconda3\\envs\\aiml\\lib\\site-packages\\sklearn\\utils\\fixes.py:230: DeprecationWarning: distutils Version classes are deprecated. Use packaging.version instead.\n",
      "  if _joblib.__version__ >= LooseVersion('0.12'):\n",
      "C:\\Users\\lavanya\\anaconda3\\envs\\aiml\\lib\\site-packages\\sklearn\\utils\\fixes.py:230: DeprecationWarning: distutils Version classes are deprecated. Use packaging.version instead.\n",
      "  if _joblib.__version__ >= LooseVersion('0.12'):\n",
      "C:\\Users\\lavanya\\anaconda3\\envs\\aiml\\lib\\site-packages\\sklearn\\utils\\fixes.py:230: DeprecationWarning: distutils Version classes are deprecated. Use packaging.version instead.\n",
      "  if _joblib.__version__ >= LooseVersion('0.12'):\n",
      "[Parallel(n_jobs=1)]: Done  31 tasks      | elapsed:   10.4s\n",
      "C:\\Users\\lavanya\\anaconda3\\envs\\aiml\\lib\\site-packages\\sklearn\\utils\\fixes.py:230: DeprecationWarning: distutils Version classes are deprecated. Use packaging.version instead.\n",
      "  if _joblib.__version__ >= LooseVersion('0.12'):\n",
      "C:\\Users\\lavanya\\anaconda3\\envs\\aiml\\lib\\site-packages\\sklearn\\utils\\fixes.py:230: DeprecationWarning: distutils Version classes are deprecated. Use packaging.version instead.\n",
      "  if _joblib.__version__ >= LooseVersion('0.12'):\n",
      "C:\\Users\\lavanya\\anaconda3\\envs\\aiml\\lib\\site-packages\\sklearn\\utils\\fixes.py:230: DeprecationWarning: distutils Version classes are deprecated. Use packaging.version instead.\n",
      "  if _joblib.__version__ >= LooseVersion('0.12'):\n"
     ]
    },
    {
     "name": "stdout",
     "output_type": "stream",
     "text": [
      "[CV]  criterion=mae, max_features=sqrt, n_estimators=100, score=0.796, total=   0.8s\n",
      "[CV] criterion=mae, max_features=log2, n_estimators=10 ...............\n",
      "[CV]  criterion=mae, max_features=log2, n_estimators=10, score=0.803, total=   0.1s\n",
      "[CV] criterion=mae, max_features=log2, n_estimators=10 ...............\n",
      "[CV]  criterion=mae, max_features=log2, n_estimators=10, score=0.800, total=   0.1s\n",
      "[CV] criterion=mae, max_features=log2, n_estimators=10 ...............\n"
     ]
    },
    {
     "name": "stderr",
     "output_type": "stream",
     "text": [
      "C:\\Users\\lavanya\\anaconda3\\envs\\aiml\\lib\\site-packages\\sklearn\\utils\\fixes.py:230: DeprecationWarning: distutils Version classes are deprecated. Use packaging.version instead.\n",
      "  if _joblib.__version__ >= LooseVersion('0.12'):\n",
      "C:\\Users\\lavanya\\anaconda3\\envs\\aiml\\lib\\site-packages\\sklearn\\utils\\fixes.py:230: DeprecationWarning: distutils Version classes are deprecated. Use packaging.version instead.\n",
      "  if _joblib.__version__ >= LooseVersion('0.12'):\n"
     ]
    },
    {
     "name": "stdout",
     "output_type": "stream",
     "text": [
      "[CV]  criterion=mae, max_features=log2, n_estimators=10, score=0.760, total=   0.3s\n",
      "[CV] criterion=mae, max_features=log2, n_estimators=100 ..............\n"
     ]
    },
    {
     "name": "stderr",
     "output_type": "stream",
     "text": [
      "C:\\Users\\lavanya\\anaconda3\\envs\\aiml\\lib\\site-packages\\sklearn\\utils\\fixes.py:230: DeprecationWarning: distutils Version classes are deprecated. Use packaging.version instead.\n",
      "  if _joblib.__version__ >= LooseVersion('0.12'):\n",
      "C:\\Users\\lavanya\\anaconda3\\envs\\aiml\\lib\\site-packages\\sklearn\\utils\\fixes.py:230: DeprecationWarning: distutils Version classes are deprecated. Use packaging.version instead.\n",
      "  if _joblib.__version__ >= LooseVersion('0.12'):\n"
     ]
    },
    {
     "name": "stdout",
     "output_type": "stream",
     "text": [
      "[CV]  criterion=mae, max_features=log2, n_estimators=100, score=0.810, total=   0.8s\n",
      "[CV] criterion=mae, max_features=log2, n_estimators=100 ..............\n"
     ]
    },
    {
     "name": "stderr",
     "output_type": "stream",
     "text": [
      "C:\\Users\\lavanya\\anaconda3\\envs\\aiml\\lib\\site-packages\\sklearn\\utils\\fixes.py:230: DeprecationWarning: distutils Version classes are deprecated. Use packaging.version instead.\n",
      "  if _joblib.__version__ >= LooseVersion('0.12'):\n",
      "C:\\Users\\lavanya\\anaconda3\\envs\\aiml\\lib\\site-packages\\sklearn\\utils\\fixes.py:230: DeprecationWarning: distutils Version classes are deprecated. Use packaging.version instead.\n",
      "  if _joblib.__version__ >= LooseVersion('0.12'):\n"
     ]
    },
    {
     "name": "stdout",
     "output_type": "stream",
     "text": [
      "[CV]  criterion=mae, max_features=log2, n_estimators=100, score=0.806, total=   0.8s\n",
      "[CV] criterion=mae, max_features=log2, n_estimators=100 ..............\n"
     ]
    },
    {
     "name": "stderr",
     "output_type": "stream",
     "text": [
      "C:\\Users\\lavanya\\anaconda3\\envs\\aiml\\lib\\site-packages\\sklearn\\utils\\fixes.py:230: DeprecationWarning: distutils Version classes are deprecated. Use packaging.version instead.\n",
      "  if _joblib.__version__ >= LooseVersion('0.12'):\n",
      "C:\\Users\\lavanya\\anaconda3\\envs\\aiml\\lib\\site-packages\\sklearn\\utils\\fixes.py:230: DeprecationWarning: distutils Version classes are deprecated. Use packaging.version instead.\n",
      "  if _joblib.__version__ >= LooseVersion('0.12'):\n"
     ]
    },
    {
     "name": "stdout",
     "output_type": "stream",
     "text": [
      "[CV]  criterion=mae, max_features=log2, n_estimators=100, score=0.793, total=   0.9s\n"
     ]
    },
    {
     "data": {
      "text/plain": [
       "GridSearchCV(cv='warn', error_score='raise-deprecating',\n",
       "             estimator=RandomForestRegressor(bootstrap=True, criterion='mse',\n",
       "                                             max_depth=None,\n",
       "                                             max_features='auto',\n",
       "                                             max_leaf_nodes=None,\n",
       "                                             min_impurity_decrease=0.0,\n",
       "                                             min_impurity_split=None,\n",
       "                                             min_samples_leaf=1,\n",
       "                                             min_samples_split=2,\n",
       "                                             min_weight_fraction_leaf=0.0,\n",
       "                                             n_estimators='warn', n_jobs=None,\n",
       "                                             oob_score=False, random_state=None,\n",
       "                                             verbose=0, warm_start=False),\n",
       "             iid='warn', n_jobs=1,\n",
       "             param_grid={'criterion': ['mse', 'mae'],\n",
       "                         'max_features': ['auto', 'sqrt', 'log2'],\n",
       "                         'n_estimators': [10, 100]},\n",
       "             pre_dispatch='2*n_jobs', refit=True, return_train_score=False,\n",
       "             scoring=None, verbose=3)"
      ]
     },
     "execution_count": 7,
     "metadata": {},
     "output_type": "execute_result"
    }
   ],
   "source": [
    "from sklearn.model_selection import GridSearchCV\n",
    "from sklearn.ensemble import RandomForestRegressor\n",
    "param_grid = {'criterion':['mse','mae'],'max_features':['auto','sqrt','log2'],'n_estimators':[10,100]}\n",
    "grid = GridSearchCV(RandomForestRegressor(), param_grid, refit = True, verbose = 3,n_jobs=1)\n",
    "# fitting the model for grid search\n",
    "grid.fit(X_train, y_train)"
   ]
  },
  {
   "cell_type": "code",
   "execution_count": 8,
   "id": "b516dca2",
   "metadata": {},
   "outputs": [
    {
     "name": "stderr",
     "output_type": "stream",
     "text": [
      "C:\\Users\\lavanya\\anaconda3\\envs\\aiml\\lib\\site-packages\\sklearn\\utils\\fixes.py:230: DeprecationWarning: distutils Version classes are deprecated. Use packaging.version instead.\n",
      "  if _joblib.__version__ >= LooseVersion('0.12'):\n"
     ]
    }
   ],
   "source": [
    "re=grid.cv_results_\n",
    "grid_prediction= grid.predict(X_test)"
   ]
  },
  {
   "cell_type": "code",
   "execution_count": 9,
   "id": "8c4cf3bc",
   "metadata": {},
   "outputs": [
    {
     "name": "stdout",
     "output_type": "stream",
     "text": [
      "The R_score value for best parameter {'criterion': 'mae', 'max_features': 'log2', 'n_estimators': 100}: 0.8748539672238098\n"
     ]
    }
   ],
   "source": [
    "from sklearn.metrics import r2_score\n",
    "r_score=r2_score(y_test,grid_prediction)\n",
    "print(\"The R_score value for best parameter {}:\".format(grid.best_params_),r_score)"
   ]
  },
  {
   "cell_type": "code",
   "execution_count": 10,
   "id": "397fcb50",
   "metadata": {},
   "outputs": [],
   "source": [
    "table=pd.DataFrame.from_dict(re)"
   ]
  },
  {
   "cell_type": "code",
   "execution_count": 11,
   "id": "649e9759",
   "metadata": {},
   "outputs": [
    {
     "data": {
      "text/html": [
       "<div>\n",
       "<style scoped>\n",
       "    .dataframe tbody tr th:only-of-type {\n",
       "        vertical-align: middle;\n",
       "    }\n",
       "\n",
       "    .dataframe tbody tr th {\n",
       "        vertical-align: top;\n",
       "    }\n",
       "\n",
       "    .dataframe thead th {\n",
       "        text-align: right;\n",
       "    }\n",
       "</style>\n",
       "<table border=\"1\" class=\"dataframe\">\n",
       "  <thead>\n",
       "    <tr style=\"text-align: right;\">\n",
       "      <th></th>\n",
       "      <th>mean_fit_time</th>\n",
       "      <th>std_fit_time</th>\n",
       "      <th>mean_score_time</th>\n",
       "      <th>std_score_time</th>\n",
       "      <th>param_criterion</th>\n",
       "      <th>param_max_features</th>\n",
       "      <th>param_n_estimators</th>\n",
       "      <th>params</th>\n",
       "      <th>split0_test_score</th>\n",
       "      <th>split1_test_score</th>\n",
       "      <th>split2_test_score</th>\n",
       "      <th>mean_test_score</th>\n",
       "      <th>std_test_score</th>\n",
       "      <th>rank_test_score</th>\n",
       "    </tr>\n",
       "  </thead>\n",
       "  <tbody>\n",
       "    <tr>\n",
       "      <th>0</th>\n",
       "      <td>0.027993</td>\n",
       "      <td>0.008699</td>\n",
       "      <td>0.009062</td>\n",
       "      <td>0.006724</td>\n",
       "      <td>mse</td>\n",
       "      <td>auto</td>\n",
       "      <td>10</td>\n",
       "      <td>{'criterion': 'mse', 'max_features': 'auto', '...</td>\n",
       "      <td>0.765164</td>\n",
       "      <td>0.769371</td>\n",
       "      <td>0.790396</td>\n",
       "      <td>0.774966</td>\n",
       "      <td>0.011036</td>\n",
       "      <td>11</td>\n",
       "    </tr>\n",
       "    <tr>\n",
       "      <th>1</th>\n",
       "      <td>0.348117</td>\n",
       "      <td>0.054282</td>\n",
       "      <td>0.009186</td>\n",
       "      <td>0.003526</td>\n",
       "      <td>mse</td>\n",
       "      <td>auto</td>\n",
       "      <td>100</td>\n",
       "      <td>{'criterion': 'mse', 'max_features': 'auto', '...</td>\n",
       "      <td>0.785524</td>\n",
       "      <td>0.792512</td>\n",
       "      <td>0.799492</td>\n",
       "      <td>0.792502</td>\n",
       "      <td>0.005704</td>\n",
       "      <td>6</td>\n",
       "    </tr>\n",
       "    <tr>\n",
       "      <th>2</th>\n",
       "      <td>0.017462</td>\n",
       "      <td>0.002641</td>\n",
       "      <td>0.008863</td>\n",
       "      <td>0.006582</td>\n",
       "      <td>mse</td>\n",
       "      <td>sqrt</td>\n",
       "      <td>10</td>\n",
       "      <td>{'criterion': 'mse', 'max_features': 'sqrt', '...</td>\n",
       "      <td>0.792314</td>\n",
       "      <td>0.808316</td>\n",
       "      <td>0.767079</td>\n",
       "      <td>0.789240</td>\n",
       "      <td>0.016966</td>\n",
       "      <td>8</td>\n",
       "    </tr>\n",
       "    <tr>\n",
       "      <th>3</th>\n",
       "      <td>0.254115</td>\n",
       "      <td>0.018838</td>\n",
       "      <td>0.013925</td>\n",
       "      <td>0.002765</td>\n",
       "      <td>mse</td>\n",
       "      <td>sqrt</td>\n",
       "      <td>100</td>\n",
       "      <td>{'criterion': 'mse', 'max_features': 'sqrt', '...</td>\n",
       "      <td>0.806076</td>\n",
       "      <td>0.802477</td>\n",
       "      <td>0.793238</td>\n",
       "      <td>0.800603</td>\n",
       "      <td>0.005407</td>\n",
       "      <td>3</td>\n",
       "    </tr>\n",
       "    <tr>\n",
       "      <th>4</th>\n",
       "      <td>0.045335</td>\n",
       "      <td>0.007876</td>\n",
       "      <td>0.005476</td>\n",
       "      <td>0.004161</td>\n",
       "      <td>mse</td>\n",
       "      <td>log2</td>\n",
       "      <td>10</td>\n",
       "      <td>{'criterion': 'mse', 'max_features': 'log2', '...</td>\n",
       "      <td>0.773801</td>\n",
       "      <td>0.796579</td>\n",
       "      <td>0.774712</td>\n",
       "      <td>0.781689</td>\n",
       "      <td>0.010527</td>\n",
       "      <td>10</td>\n",
       "    </tr>\n",
       "    <tr>\n",
       "      <th>5</th>\n",
       "      <td>0.272622</td>\n",
       "      <td>0.035813</td>\n",
       "      <td>0.020918</td>\n",
       "      <td>0.003501</td>\n",
       "      <td>mse</td>\n",
       "      <td>log2</td>\n",
       "      <td>100</td>\n",
       "      <td>{'criterion': 'mse', 'max_features': 'log2', '...</td>\n",
       "      <td>0.802972</td>\n",
       "      <td>0.800470</td>\n",
       "      <td>0.793546</td>\n",
       "      <td>0.799000</td>\n",
       "      <td>0.003987</td>\n",
       "      <td>4</td>\n",
       "    </tr>\n",
       "    <tr>\n",
       "      <th>6</th>\n",
       "      <td>0.116650</td>\n",
       "      <td>0.010560</td>\n",
       "      <td>0.004915</td>\n",
       "      <td>0.004100</td>\n",
       "      <td>mae</td>\n",
       "      <td>auto</td>\n",
       "      <td>10</td>\n",
       "      <td>{'criterion': 'mae', 'max_features': 'auto', '...</td>\n",
       "      <td>0.759476</td>\n",
       "      <td>0.766519</td>\n",
       "      <td>0.790386</td>\n",
       "      <td>0.772113</td>\n",
       "      <td>0.013227</td>\n",
       "      <td>12</td>\n",
       "    </tr>\n",
       "    <tr>\n",
       "      <th>7</th>\n",
       "      <td>1.377185</td>\n",
       "      <td>0.036798</td>\n",
       "      <td>0.013608</td>\n",
       "      <td>0.008131</td>\n",
       "      <td>mae</td>\n",
       "      <td>auto</td>\n",
       "      <td>100</td>\n",
       "      <td>{'criterion': 'mae', 'max_features': 'auto', '...</td>\n",
       "      <td>0.789958</td>\n",
       "      <td>0.785317</td>\n",
       "      <td>0.795520</td>\n",
       "      <td>0.790265</td>\n",
       "      <td>0.004169</td>\n",
       "      <td>7</td>\n",
       "    </tr>\n",
       "    <tr>\n",
       "      <th>8</th>\n",
       "      <td>0.077362</td>\n",
       "      <td>0.006248</td>\n",
       "      <td>0.002203</td>\n",
       "      <td>0.003116</td>\n",
       "      <td>mae</td>\n",
       "      <td>sqrt</td>\n",
       "      <td>10</td>\n",
       "      <td>{'criterion': 'mae', 'max_features': 'sqrt', '...</td>\n",
       "      <td>0.802321</td>\n",
       "      <td>0.803147</td>\n",
       "      <td>0.786501</td>\n",
       "      <td>0.797329</td>\n",
       "      <td>0.007657</td>\n",
       "      <td>5</td>\n",
       "    </tr>\n",
       "    <tr>\n",
       "      <th>9</th>\n",
       "      <td>0.810448</td>\n",
       "      <td>0.095246</td>\n",
       "      <td>0.011249</td>\n",
       "      <td>0.001774</td>\n",
       "      <td>mae</td>\n",
       "      <td>sqrt</td>\n",
       "      <td>100</td>\n",
       "      <td>{'criterion': 'mae', 'max_features': 'sqrt', '...</td>\n",
       "      <td>0.805523</td>\n",
       "      <td>0.807694</td>\n",
       "      <td>0.795846</td>\n",
       "      <td>0.803024</td>\n",
       "      <td>0.005148</td>\n",
       "      <td>2</td>\n",
       "    </tr>\n",
       "    <tr>\n",
       "      <th>10</th>\n",
       "      <td>0.136117</td>\n",
       "      <td>0.086591</td>\n",
       "      <td>0.002692</td>\n",
       "      <td>0.003806</td>\n",
       "      <td>mae</td>\n",
       "      <td>log2</td>\n",
       "      <td>10</td>\n",
       "      <td>{'criterion': 'mae', 'max_features': 'log2', '...</td>\n",
       "      <td>0.802654</td>\n",
       "      <td>0.799540</td>\n",
       "      <td>0.759863</td>\n",
       "      <td>0.787369</td>\n",
       "      <td>0.019475</td>\n",
       "      <td>9</td>\n",
       "    </tr>\n",
       "    <tr>\n",
       "      <th>11</th>\n",
       "      <td>0.797980</td>\n",
       "      <td>0.048869</td>\n",
       "      <td>0.006881</td>\n",
       "      <td>0.004872</td>\n",
       "      <td>mae</td>\n",
       "      <td>log2</td>\n",
       "      <td>100</td>\n",
       "      <td>{'criterion': 'mae', 'max_features': 'log2', '...</td>\n",
       "      <td>0.810243</td>\n",
       "      <td>0.806183</td>\n",
       "      <td>0.793195</td>\n",
       "      <td>0.803215</td>\n",
       "      <td>0.007271</td>\n",
       "      <td>1</td>\n",
       "    </tr>\n",
       "  </tbody>\n",
       "</table>\n",
       "</div>"
      ],
      "text/plain": [
       "    mean_fit_time  std_fit_time  mean_score_time  std_score_time  \\\n",
       "0        0.027993      0.008699         0.009062        0.006724   \n",
       "1        0.348117      0.054282         0.009186        0.003526   \n",
       "2        0.017462      0.002641         0.008863        0.006582   \n",
       "3        0.254115      0.018838         0.013925        0.002765   \n",
       "4        0.045335      0.007876         0.005476        0.004161   \n",
       "5        0.272622      0.035813         0.020918        0.003501   \n",
       "6        0.116650      0.010560         0.004915        0.004100   \n",
       "7        1.377185      0.036798         0.013608        0.008131   \n",
       "8        0.077362      0.006248         0.002203        0.003116   \n",
       "9        0.810448      0.095246         0.011249        0.001774   \n",
       "10       0.136117      0.086591         0.002692        0.003806   \n",
       "11       0.797980      0.048869         0.006881        0.004872   \n",
       "\n",
       "   param_criterion param_max_features param_n_estimators  \\\n",
       "0              mse               auto                 10   \n",
       "1              mse               auto                100   \n",
       "2              mse               sqrt                 10   \n",
       "3              mse               sqrt                100   \n",
       "4              mse               log2                 10   \n",
       "5              mse               log2                100   \n",
       "6              mae               auto                 10   \n",
       "7              mae               auto                100   \n",
       "8              mae               sqrt                 10   \n",
       "9              mae               sqrt                100   \n",
       "10             mae               log2                 10   \n",
       "11             mae               log2                100   \n",
       "\n",
       "                                               params  split0_test_score  \\\n",
       "0   {'criterion': 'mse', 'max_features': 'auto', '...           0.765164   \n",
       "1   {'criterion': 'mse', 'max_features': 'auto', '...           0.785524   \n",
       "2   {'criterion': 'mse', 'max_features': 'sqrt', '...           0.792314   \n",
       "3   {'criterion': 'mse', 'max_features': 'sqrt', '...           0.806076   \n",
       "4   {'criterion': 'mse', 'max_features': 'log2', '...           0.773801   \n",
       "5   {'criterion': 'mse', 'max_features': 'log2', '...           0.802972   \n",
       "6   {'criterion': 'mae', 'max_features': 'auto', '...           0.759476   \n",
       "7   {'criterion': 'mae', 'max_features': 'auto', '...           0.789958   \n",
       "8   {'criterion': 'mae', 'max_features': 'sqrt', '...           0.802321   \n",
       "9   {'criterion': 'mae', 'max_features': 'sqrt', '...           0.805523   \n",
       "10  {'criterion': 'mae', 'max_features': 'log2', '...           0.802654   \n",
       "11  {'criterion': 'mae', 'max_features': 'log2', '...           0.810243   \n",
       "\n",
       "    split1_test_score  split2_test_score  mean_test_score  std_test_score  \\\n",
       "0            0.769371           0.790396         0.774966        0.011036   \n",
       "1            0.792512           0.799492         0.792502        0.005704   \n",
       "2            0.808316           0.767079         0.789240        0.016966   \n",
       "3            0.802477           0.793238         0.800603        0.005407   \n",
       "4            0.796579           0.774712         0.781689        0.010527   \n",
       "5            0.800470           0.793546         0.799000        0.003987   \n",
       "6            0.766519           0.790386         0.772113        0.013227   \n",
       "7            0.785317           0.795520         0.790265        0.004169   \n",
       "8            0.803147           0.786501         0.797329        0.007657   \n",
       "9            0.807694           0.795846         0.803024        0.005148   \n",
       "10           0.799540           0.759863         0.787369        0.019475   \n",
       "11           0.806183           0.793195         0.803215        0.007271   \n",
       "\n",
       "    rank_test_score  \n",
       "0                11  \n",
       "1                 6  \n",
       "2                 8  \n",
       "3                 3  \n",
       "4                10  \n",
       "5                 4  \n",
       "6                12  \n",
       "7                 7  \n",
       "8                 5  \n",
       "9                 2  \n",
       "10                9  \n",
       "11                1  "
      ]
     },
     "execution_count": 11,
     "metadata": {},
     "output_type": "execute_result"
    }
   ],
   "source": [
    "table"
   ]
  },
  {
   "cell_type": "code",
   "execution_count": 12,
   "id": "ace7384b",
   "metadata": {},
   "outputs": [
    {
     "name": "stdout",
     "output_type": "stream",
     "text": [
      "Age:32\n",
      "BMI:43\n",
      "Children:2\n",
      "Sex Male 0 or 1:0\n",
      "Smoker Yes 0 or 1:1\n"
     ]
    }
   ],
   "source": [
    "age_input=float(input(\"Age:\"))\n",
    "bmi_input=float(input(\"BMI:\"))\n",
    "children_input=float(input(\"Children:\"))\n",
    "sex_male_input=int(input(\"Sex Male 0 or 1:\"))\n",
    "smoker_yes_input=int(input(\"Smoker Yes 0 or 1:\"))"
   ]
  },
  {
   "cell_type": "code",
   "execution_count": 13,
   "id": "bf44c9a1",
   "metadata": {},
   "outputs": [
    {
     "name": "stdout",
     "output_type": "stream",
     "text": [
      "Future_Prediction=[45989.9048346]\n"
     ]
    },
    {
     "name": "stderr",
     "output_type": "stream",
     "text": [
      "C:\\Users\\lavanya\\anaconda3\\envs\\aiml\\lib\\site-packages\\sklearn\\utils\\fixes.py:230: DeprecationWarning: distutils Version classes are deprecated. Use packaging.version instead.\n",
      "  if _joblib.__version__ >= LooseVersion('0.12'):\n"
     ]
    }
   ],
   "source": [
    "Future_Prediction=grid.predict([[age_input,bmi_input,children_input,sex_male_input,smoker_yes_input]])\n",
    "#␣change the paramter,play with it.\n",
    "print(\"Future_Prediction={}\".format(Future_Prediction))"
   ]
  },
  {
   "cell_type": "code",
   "execution_count": null,
   "id": "35d53c55",
   "metadata": {},
   "outputs": [],
   "source": []
  }
 ],
 "metadata": {
  "kernelspec": {
   "display_name": "Python 3 (ipykernel)",
   "language": "python",
   "name": "python3"
  },
  "language_info": {
   "codemirror_mode": {
    "name": "ipython",
    "version": 3
   },
   "file_extension": ".py",
   "mimetype": "text/x-python",
   "name": "python",
   "nbconvert_exporter": "python",
   "pygments_lexer": "ipython3",
   "version": "3.7.6"
  }
 },
 "nbformat": 4,
 "nbformat_minor": 5
}
